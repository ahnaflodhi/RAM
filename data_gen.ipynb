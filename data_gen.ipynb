{
 "cells": [
  {
   "cell_type": "code",
   "execution_count": 22,
   "metadata": {},
   "outputs": [],
   "source": [
    "using Pkg\n",
    "using ImageMagick\n",
    "using Knet\n",
    "using Images \n",
    "using Plots\n",
    "using FileIO\n",
    "using LinearAlgebra\n",
    "using JLD\n",
    "include(Knet.dir(\"data\", \"mnist.jl\"))"
   ]
  },
  {
   "cell_type": "code",
   "execution_count": 23,
   "metadata": {},
   "outputs": [
    {
     "name": "stderr",
     "output_type": "stream",
     "text": [
      "┌ Info: Loading MNIST...\n",
      "└ @ Main /home/ahnaf/.julia/packages/Knet/05UDD/data/mnist.jl:33\n"
     ]
    }
   ],
   "source": [
    "# include(Knet.dir(\"data\", \"mnist.jl\"))\n",
    "# Centered Dataset\n",
    "x_train, y_train, x_test, y_test = mnist();"
   ]
  },
  {
   "cell_type": "markdown",
   "metadata": {},
   "source": [
    "### Load previously saved data instances"
   ]
  },
  {
   "cell_type": "code",
   "execution_count": null,
   "metadata": {},
   "outputs": [],
   "source": [
    "x_train_tx60 = load(\"x_train_tx60.jld2\")[\"x_train_tx60\"];\n",
    "x_test_tx60 = load(\"x_test_tx60.jld2\")[\"x_test_tx60\"];"
   ]
  },
  {
   "cell_type": "code",
   "execution_count": null,
   "metadata": {},
   "outputs": [],
   "source": [
    "x_train_tx100 = load(\"x_train_tx100.jld2\")[\"x_train_tx100\"];\n",
    "x_test_tx100 = load(\"x_test_tx100.jld2\")[\"x_test_tx100\"];"
   ]
  },
  {
   "cell_type": "code",
   "execution_count": null,
   "metadata": {},
   "outputs": [],
   "source": [
    "x_train_tc60 = load(\"x_train_tc60.jld2\")[\"x_train_tc60\"]\n",
    "x_test_tc60 = load(\"x_test_tc60.jld2\")[\"x_test_tc60\"];"
   ]
  },
  {
   "cell_type": "code",
   "execution_count": null,
   "metadata": {},
   "outputs": [],
   "source": [
    "x_train_tc100 = load(\"x_train_tc100.jld2\")[\"x_train_tc100\"];\n",
    "x_test_tc100 = load(\"x_test_tc100.jld2\")[\"x_test_tc100\"];"
   ]
  },
  {
   "cell_type": "markdown",
   "metadata": {},
   "source": [
    "## Data Generation Blocks\n",
    "The following blocks all deal with Data Generation"
   ]
  },
  {
   "cell_type": "code",
   "execution_count": 24,
   "metadata": {},
   "outputs": [
    {
     "data": {
      "text/plain": [
       "translate_image (generic function with 1 method)"
      ]
     },
     "execution_count": 24,
     "metadata": {},
     "output_type": "execute_result"
    }
   ],
   "source": [
    "# Function to translate Centered MNIST images to random positions in blank frame\n",
    "# Requires the dataset and size of the blank frame. Assumes square frame for placement.\n",
    "# Output dimensions of this function not consistent with input dataset sizes i.e N elements array of i,j,1\n",
    "# Concatenation attempts here resulted in Stack Overflow error\n",
    "# Function dim_reg used to divide N element array into subsets, concatenate each subset along 4 dimension\n",
    "# push them into a new array and concatenate along 4th dimension again\n",
    "\n",
    "function translate_image(dataset, frame_size)\n",
    "    \n",
    "#     idx = 10000   # Comment for using full dataset and uncomment below\n",
    "    idx = size(dataset, 4)  # Uncomment for full dataset\n",
    "    \n",
    "    translated_set = []\n",
    "    x_lim = frame_size - size(dataset, 1)\n",
    "    y_lim = frame_size - size(dataset, 2)\n",
    "        \n",
    "    #Generating a blank patch\n",
    "    patch_init::Array{Float16} =  zeros(frame_size, frame_size,1);\n",
    "    \n",
    "    for i = 1:idx\n",
    "        patch_cl = deepcopy(patch_init)\n",
    "        \n",
    "        # Random indices for placing the centered MNIST image. Dataset dimensions (x,y,1,N)\n",
    "        locx_im = rand(1:x_lim)\n",
    "        locy_im = rand(1:y_lim)\n",
    "\n",
    "        # Inserting original MNIST image.\n",
    "        patch_cl[locx_im:locx_im + size(dataset,1)-1, locy_im:locy_im + size(dataset,1)-1,1] = (dataset[:,:,1,i]);\n",
    "               \n",
    "        # Shifting to new array\n",
    "        push!(translated_set, patch_cl)\n",
    "        if i == 60000 #final element check\n",
    "            println(i)\n",
    "        end\n",
    "    end\n",
    "       \n",
    "    return translated_set;\n",
    "end\n"
   ]
  },
  {
   "cell_type": "code",
   "execution_count": 25,
   "metadata": {},
   "outputs": [
    {
     "data": {
      "text/plain": [
       "dim_reg (generic function with 1 method)"
      ]
     },
     "execution_count": 25,
     "metadata": {},
     "output_type": "execute_result"
    }
   ],
   "source": [
    "#Divides the input dataset into the number of sets, concatenates each subset along the 4 dimension, appends\n",
    "# them into a new array and concatenates along the 4 dimension again\n",
    "\n",
    "function dim_reg(dataset, sets)    \n",
    "    new = Any[];\n",
    "    set_size::Int = length(dataset) / sets;\n",
    "    for  i = 1:sets\n",
    "        first::Int = 1 + (i-1)*(length(dataset) / sets);\n",
    "        last::Int = i * (length(dataset) / sets);\n",
    "        subset = dataset[first:last];\n",
    "        \n",
    "        #println(size(subset))\n",
    "        subset_new = cat(subset..., dims = 4)\n",
    "        #println(size(subset_new));\n",
    "        push!(new, subset_new);\n",
    "    end\n",
    "    new = cat(new..., dims = 4)\n",
    "    return new;\n",
    "end"
   ]
  },
  {
   "cell_type": "markdown",
   "metadata": {},
   "source": [
    "# Regular translated MNIST (frame_size =  60 x 60)\n",
    "## X_train"
   ]
  },
  {
   "cell_type": "code",
   "execution_count": 26,
   "metadata": {
    "scrolled": true
   },
   "outputs": [
    {
     "name": "stdout",
     "output_type": "stream",
     "text": [
      "60000\n",
      "(60, 60, 1, 60000)\n"
     ]
    }
   ],
   "source": [
    "# X_train\n",
    "# Translate_image takes arguments input datasets and frames-size for the blank frame\n",
    "translated_set = translate_image(x_train, 60);\n",
    "\n",
    "# Dimensional matching for x_train\n",
    "x_train_tx60 = dim_reg(translated_set, 6);\n",
    "\n",
    "# Check for output of the translation_fin\n",
    "# Must be equal to frame_size x frame_size x 1 x N (N =  60000 for x_train)\n",
    "println(size(x_train_tx60))\n",
    "\n",
    "save(\"x_train_tx60.jld2\", \"x_train_tx60\", x_train_tx60)\n",
    "\n",
    "#Loading pre-saved datasets\n",
    "# x_train_tx60 = load(\"x_train_tx60.jld\")[\"x_train_tx60\"];"
   ]
  },
  {
   "cell_type": "markdown",
   "metadata": {},
   "source": [
    "## X_test"
   ]
  },
  {
   "cell_type": "code",
   "execution_count": 27,
   "metadata": {},
   "outputs": [
    {
     "name": "stdout",
     "output_type": "stream",
     "text": [
      "(60, 60, 1, 10000)\n"
     ]
    }
   ],
   "source": [
    "# X_test\n",
    "# Translate_image takes arguments input datasets and frames-size for the blank frame\n",
    "translated_testset = translate_image(x_test, 60);\n",
    "\n",
    "# Dimensional matching for x_train\n",
    "x_test_tx60 = dim_reg(translated_testset, 2);\n",
    "\n",
    "# Check for output of the translation_fin\n",
    "# Must be equal to frame_size x frame_size x 1 x N (N = 10000 for x_test)\n",
    "println(size(x_test_tx60))\n",
    "\n",
    "save(\"x_test_tx60.jld2\", \"x_test_tx60\", x_test_tx60)\n",
    "\n",
    "#Loading pre-saved datasets\n",
    "# x_test_tx60 = load(\"x_test_tx60.jld\")[\"x_test_tx60\"];"
   ]
  },
  {
   "cell_type": "code",
   "execution_count": 28,
   "metadata": {},
   "outputs": [
    {
     "data": {
      "text/plain": [
       "(60, 60, 1, 10000)"
      ]
     },
     "execution_count": 28,
     "metadata": {},
     "output_type": "execute_result"
    }
   ],
   "source": [
    "size(x_test_tx60)"
   ]
  },
  {
   "cell_type": "markdown",
   "metadata": {},
   "source": [
    "# Regular translated MNIST (frame_size =  100 x 100)\n",
    "## X_train"
   ]
  },
  {
   "cell_type": "code",
   "execution_count": 29,
   "metadata": {},
   "outputs": [
    {
     "name": "stdout",
     "output_type": "stream",
     "text": [
      "60000\n",
      "(100, 100, 1, 60000)\n",
      "(100, 100, 1, 60000)\n"
     ]
    }
   ],
   "source": [
    "# X_train\n",
    "# Translate_image takes arguments input datasets and frames-size for the blank frame\n",
    "translated_set2 = translate_image(x_train, 100);\n",
    "\n",
    "# Dimensional matching for x_train\n",
    "x_train_tx100 = dim_reg(translated_set2, 10);\n",
    "\n",
    "# Check for output of the translation_fin\n",
    "# Must be equal to frame_size x frame_size x 1 x N (N =  60000 for x_train)\n",
    "println(size(x_train_tx100))\n",
    "\n",
    "save(\"x_train_tx100.jld2\", \"x_train_tx100\", x_train_tx100)\n",
    "\n",
    "#Loading Pre-saved datasets\n",
    "# x_train_tx100 = load(\"x_train_tx100.jld\")[\"x_train_tx100\"];\n",
    "println(size(x_train_tx100))"
   ]
  },
  {
   "cell_type": "markdown",
   "metadata": {},
   "source": [
    "### X_test\n"
   ]
  },
  {
   "cell_type": "code",
   "execution_count": 30,
   "metadata": {},
   "outputs": [
    {
     "name": "stdout",
     "output_type": "stream",
     "text": [
      "(100, 100, 1, 10000)\n",
      "(100, 100, 1, 10000)\n"
     ]
    }
   ],
   "source": [
    "# X_test\n",
    "# Translate_image takes arguments input datasets and frames-size for the blank frame\n",
    "translated_testset = translate_image(x_test, 100);\n",
    "\n",
    "# Dimensional matching for x_train\n",
    "x_test_tx100 = dim_reg(translated_testset, 2);\n",
    "\n",
    "# Check for output of the translation_fin\n",
    "# Must be equal to frame_size x frame_size x 1 x N (N = 10000 for x_test)\n",
    "println(size(x_test_tx100))\n",
    "\n",
    "save(\"x_test_tx100.jld2\", \"x_test_tx100\", x_test_tx100)\n",
    "\n",
    "#Loading pre-saved Datasets\n",
    "# x_test_tx100 = load(\"x_test_tx100.jld\")[\"x_test_tx100\"];\n",
    "println(size(x_test_tx100))"
   ]
  },
  {
   "cell_type": "markdown",
   "metadata": {},
   "source": [
    "# Translated and Cluttered MNIST"
   ]
  },
  {
   "cell_type": "code",
   "execution_count": 31,
   "metadata": {},
   "outputs": [
    {
     "data": {
      "text/plain": [
       "clutter (generic function with 1 method)"
      ]
     },
     "execution_count": 31,
     "metadata": {},
     "output_type": "execute_result"
    }
   ],
   "source": [
    "function clutter(dataset, sets, clt_size, clt_inst)\n",
    "    \n",
    "    set_size::Int = size(dataset, 4)/sets;\n",
    "    set_fin = [];\n",
    "    \n",
    "    for i = 1:sets\n",
    "        temp = clutter_set(dataset[:,:,:,1 + (i-1)*set_size : i*set_size], clt_size, clt_inst);\n",
    "        push!(set_fin, temp);\n",
    "    end\n",
    "\n",
    "    cluttered_array = cat(set_fin..., dims = 4);\n",
    "#     println(size(cluttered_array))\n",
    "    \n",
    "    return cluttered_array\n",
    "end"
   ]
  },
  {
   "cell_type": "code",
   "execution_count": 32,
   "metadata": {},
   "outputs": [
    {
     "data": {
      "text/plain": [
       "clutter_set (generic function with 1 method)"
      ]
     },
     "execution_count": 32,
     "metadata": {},
     "output_type": "execute_result"
    }
   ],
   "source": [
    "# Introduces clutter in dataset\n",
    "# Requires image, size of the clutter patch (square) and number of clutter patches to be introduced.\n",
    "\n",
    "function clutter_set(dataset, clt_size, clt_inst)\n",
    "       \n",
    "    lim::Int = size(dataset, 4) # Uncomment for full dataset\n",
    "    \n",
    "#     size for testing\n",
    "    clutter_array = []\n",
    "            \n",
    "    for idx = 1:lim  \n",
    "        temp = deepcopy(dataset[:,:,:,idx]);\n",
    "\n",
    "        for n = 1:clt_inst\n",
    "\n",
    "            x = rand(1:28, clt_size);\n",
    "            y = rand(1:28, clt_size);\n",
    "\n",
    "            # Isolating clutter patch from Training set\n",
    "            clutter = x_train[x, y, 1, rand(1:size(x_train, 4))];\n",
    "#             println(size(clutter))\n",
    "\n",
    "            # Generating indices for placing clutter\n",
    "            x_cl, y_cl = rand(1:(size(dataset,1) - clt_size)), rand(1:(size(dataset,2) - clt_size));\n",
    "\n",
    "            # Cluttering the patched image\n",
    "            temp[x_cl:x_cl + size(clutter,1)-1, y_cl:y_cl + size(clutter,2)-1,:] = transpose(clutter);\n",
    "#             println(size(dataset[:,:,:,idx]))\n",
    "\n",
    "        end\n",
    "\n",
    "    push!(clutter_array, temp) \n",
    "\n",
    "    end\n",
    "       \n",
    "    clutter_set = cat(clutter_array..., dims = 4)\n",
    "#     println(size(clutter_set))\n",
    "    \n",
    "    return clutter_set\n",
    "end"
   ]
  },
  {
   "cell_type": "code",
   "execution_count": 33,
   "metadata": {},
   "outputs": [],
   "source": [
    "# Global Parameters for clutter\n",
    "clutter_size = 8;\n",
    "clutter_inst = 5;\n",
    "sets = 5;"
   ]
  },
  {
   "cell_type": "markdown",
   "metadata": {},
   "source": [
    "## X_train 60 x 60"
   ]
  },
  {
   "cell_type": "code",
   "execution_count": 34,
   "metadata": {},
   "outputs": [
    {
     "name": "stdout",
     "output_type": "stream",
     "text": [
      " 48.413687 seconds (371.64 M allocations: 26.731 GiB, 51.09% gc time)\n",
      "(60, 60, 1, 60000)\n",
      "  2.107632 seconds (11.79 M allocations: 1.087 GiB, 46.38% gc time)\n",
      "(60, 60, 1, 10000)\n"
     ]
    }
   ],
   "source": [
    "@time x_train_tc60 = clutter(x_train_tx60, sets, clutter_size , clutter_inst);\n",
    "save(\"x_train_tc60.jld2\", \"x_train_tc60\", x_train_tc60)\n",
    "# x_train_tc60 = load(\"x_train_tc60.jld\")[\"x_train_tc60\"];\n",
    "println(size(x_train_tc60))\n",
    "\n",
    "@time x_test_tc60 = clutter(x_test_tx60, sets, clutter_size , clutter_inst);\n",
    "save(\"x_test_tc60.jld2\", \"x_test_tc60\", x_test_tc60)\n",
    "# x_test_tc60 = load(\"x_test_tc60.jld\")[\"x_test_tc60\"];\n",
    "println(size(x_test_tc60))"
   ]
  },
  {
   "cell_type": "markdown",
   "metadata": {},
   "source": [
    "## X_train 100 x 100"
   ]
  },
  {
   "cell_type": "code",
   "execution_count": 35,
   "metadata": {},
   "outputs": [
    {
     "name": "stdout",
     "output_type": "stream",
     "text": [
      " 49.395129 seconds (370.76 M allocations: 30.255 GiB, 49.88% gc time)\n",
      "(100, 100, 1, 60000)\n",
      "  5.930191 seconds (11.79 M allocations: 1.681 GiB, 76.82% gc time)\n",
      "(100, 100, 1, 10000)\n"
     ]
    }
   ],
   "source": [
    "@time x_train_tc100 = clutter(x_train_tx100, sets, clutter_size , clutter_inst);\n",
    "save(\"x_train_tc100.jld2\", \"x_train_tc100\", x_train_tc100)\n",
    "# x_train_tc100 = load(\"x_train_tc100.jld\")[\"x_train_tc100\"];\n",
    "println(size(x_train_tc100))\n",
    "\n",
    "@time x_test_tc100 = clutter(x_test_tx100, sets, clutter_size , clutter_inst);\n",
    "save(\"x_test_tc100.jld2\", \"x_test_tc100\", x_test_tc100)\n",
    "# x_test_tc100 = load(\"x_test_tc100.jld\")[\"x_test_tc100\"];\n",
    "println(size(x_test_tc100))"
   ]
  },
  {
   "cell_type": "markdown",
   "metadata": {},
   "source": [
    "# Data Visualization\n",
    "## Random Data samples "
   ]
  },
  {
   "cell_type": "code",
   "execution_count": 36,
   "metadata": {},
   "outputs": [],
   "source": [
    "idx = rand(1:6000, 5);"
   ]
  },
  {
   "cell_type": "code",
   "execution_count": 37,
   "metadata": {},
   "outputs": [
    {
     "data": {
      "image/png": "[encoded data removed]",
      "text/plain": [
       "28×140 Array{Gray{Float32},2} with eltype Gray{Float32}:\n",
       " Gray{Float32}(0.0)  Gray{Float32}(0.0)  …  Gray{Float32}(0.0)\n",
       " Gray{Float32}(0.0)  Gray{Float32}(0.0)     Gray{Float32}(0.0)\n",
       " Gray{Float32}(0.0)  Gray{Float32}(0.0)     Gray{Float32}(0.0)\n",
       " Gray{Float32}(0.0)  Gray{Float32}(0.0)     Gray{Float32}(0.0)\n",
       " Gray{Float32}(0.0)  Gray{Float32}(0.0)     Gray{Float32}(0.0)\n",
       " Gray{Float32}(0.0)  Gray{Float32}(0.0)  …  Gray{Float32}(0.0)\n",
       " Gray{Float32}(0.0)  Gray{Float32}(0.0)     Gray{Float32}(0.0)\n",
       " Gray{Float32}(0.0)  Gray{Float32}(0.0)     Gray{Float32}(0.0)\n",
       " Gray{Float32}(0.0)  Gray{Float32}(0.0)     Gray{Float32}(0.0)\n",
       " Gray{Float32}(0.0)  Gray{Float32}(0.0)     Gray{Float32}(0.0)\n",
       " Gray{Float32}(0.0)  Gray{Float32}(0.0)  …  Gray{Float32}(0.0)\n",
       " Gray{Float32}(0.0)  Gray{Float32}(0.0)     Gray{Float32}(0.0)\n",
       " Gray{Float32}(0.0)  Gray{Float32}(0.0)     Gray{Float32}(0.0)\n",
       " ⋮                                       ⋱                    \n",
       " Gray{Float32}(0.0)  Gray{Float32}(0.0)     Gray{Float32}(0.0)\n",
       " Gray{Float32}(0.0)  Gray{Float32}(0.0)     Gray{Float32}(0.0)\n",
       " Gray{Float32}(0.0)  Gray{Float32}(0.0)     Gray{Float32}(0.0)\n",
       " Gray{Float32}(0.0)  Gray{Float32}(0.0)     Gray{Float32}(0.0)\n",
       " Gray{Float32}(0.0)  Gray{Float32}(0.0)  …  Gray{Float32}(0.0)\n",
       " Gray{Float32}(0.0)  Gray{Float32}(0.0)     Gray{Float32}(0.0)\n",
       " Gray{Float32}(0.0)  Gray{Float32}(0.0)     Gray{Float32}(0.0)\n",
       " Gray{Float32}(0.0)  Gray{Float32}(0.0)     Gray{Float32}(0.0)\n",
       " Gray{Float32}(0.0)  Gray{Float32}(0.0)     Gray{Float32}(0.0)\n",
       " Gray{Float32}(0.0)  Gray{Float32}(0.0)  …  Gray{Float32}(0.0)\n",
       " Gray{Float32}(0.0)  Gray{Float32}(0.0)     Gray{Float32}(0.0)\n",
       " Gray{Float32}(0.0)  Gray{Float32}(0.0)     Gray{Float32}(0.0)"
      ]
     },
     "execution_count": 37,
     "metadata": {},
     "output_type": "execute_result"
    }
   ],
   "source": [
    "hcat([mnistview(x_train,i) for i in idx]...)"
   ]
  },
  {
   "cell_type": "code",
   "execution_count": 38,
   "metadata": {},
   "outputs": [
    {
     "data": {
      "image/png": "[encoded data removed]",
      "text/plain": [
       "60×300 Array{Gray{Float16},2} with eltype Gray{Float16}:\n",
       " Gray{Float16}(0.0)  Gray{Float16}(0.0)  …  Gray{Float16}(0.0)\n",
       " Gray{Float16}(0.0)  Gray{Float16}(0.0)     Gray{Float16}(0.0)\n",
       " Gray{Float16}(0.0)  Gray{Float16}(0.0)     Gray{Float16}(0.0)\n",
       " Gray{Float16}(0.0)  Gray{Float16}(0.0)     Gray{Float16}(0.0)\n",
       " Gray{Float16}(0.0)  Gray{Float16}(0.0)     Gray{Float16}(0.0)\n",
       " Gray{Float16}(0.0)  Gray{Float16}(0.0)  …  Gray{Float16}(0.0)\n",
       " Gray{Float16}(0.0)  Gray{Float16}(0.0)     Gray{Float16}(0.0)\n",
       " Gray{Float16}(0.0)  Gray{Float16}(0.0)     Gray{Float16}(0.0)\n",
       " Gray{Float16}(0.0)  Gray{Float16}(0.0)     Gray{Float16}(0.0)\n",
       " Gray{Float16}(0.0)  Gray{Float16}(0.0)     Gray{Float16}(0.0)\n",
       " Gray{Float16}(0.0)  Gray{Float16}(0.0)  …  Gray{Float16}(0.0)\n",
       " Gray{Float16}(0.0)  Gray{Float16}(0.0)     Gray{Float16}(0.0)\n",
       " Gray{Float16}(0.0)  Gray{Float16}(0.0)     Gray{Float16}(0.0)\n",
       " ⋮                                       ⋱                    \n",
       " Gray{Float16}(0.0)  Gray{Float16}(0.0)     Gray{Float16}(0.0)\n",
       " Gray{Float16}(0.0)  Gray{Float16}(0.0)     Gray{Float16}(0.0)\n",
       " Gray{Float16}(0.0)  Gray{Float16}(0.0)  …  Gray{Float16}(0.0)\n",
       " Gray{Float16}(0.0)  Gray{Float16}(0.0)     Gray{Float16}(0.0)\n",
       " Gray{Float16}(0.0)  Gray{Float16}(0.0)     Gray{Float16}(0.0)\n",
       " Gray{Float16}(0.0)  Gray{Float16}(0.0)     Gray{Float16}(0.0)\n",
       " Gray{Float16}(0.0)  Gray{Float16}(0.0)     Gray{Float16}(0.0)\n",
       " Gray{Float16}(0.0)  Gray{Float16}(0.0)  …  Gray{Float16}(0.0)\n",
       " Gray{Float16}(0.0)  Gray{Float16}(0.0)     Gray{Float16}(0.0)\n",
       " Gray{Float16}(0.0)  Gray{Float16}(0.0)     Gray{Float16}(0.0)\n",
       " Gray{Float16}(0.0)  Gray{Float16}(0.0)     Gray{Float16}(0.0)\n",
       " Gray{Float16}(0.0)  Gray{Float16}(0.0)     Gray{Float16}(0.0)"
      ]
     },
     "execution_count": 38,
     "metadata": {},
     "output_type": "execute_result"
    }
   ],
   "source": [
    "hcat([mnistview(x_train_tx60,i) for i in idx]...)"
   ]
  },
  {
   "cell_type": "code",
   "execution_count": 39,
   "metadata": {},
   "outputs": [
    {
     "data": {
      "image/png": "[encoded data removed]",
      "text/plain": [
       "100×500 Array{Gray{Float16},2} with eltype Gray{Float16}:\n",
       " Gray{Float16}(0.0)  Gray{Float16}(0.0)  …  Gray{Float16}(0.0)\n",
       " Gray{Float16}(0.0)  Gray{Float16}(0.0)     Gray{Float16}(0.0)\n",
       " Gray{Float16}(0.0)  Gray{Float16}(0.0)     Gray{Float16}(0.0)\n",
       " Gray{Float16}(0.0)  Gray{Float16}(0.0)     Gray{Float16}(0.0)\n",
       " Gray{Float16}(0.0)  Gray{Float16}(0.0)     Gray{Float16}(0.0)\n",
       " Gray{Float16}(0.0)  Gray{Float16}(0.0)  …  Gray{Float16}(0.0)\n",
       " Gray{Float16}(0.0)  Gray{Float16}(0.0)     Gray{Float16}(0.0)\n",
       " Gray{Float16}(0.0)  Gray{Float16}(0.0)     Gray{Float16}(0.0)\n",
       " Gray{Float16}(0.0)  Gray{Float16}(0.0)     Gray{Float16}(0.0)\n",
       " Gray{Float16}(0.0)  Gray{Float16}(0.0)     Gray{Float16}(0.0)\n",
       " Gray{Float16}(0.0)  Gray{Float16}(0.0)  …  Gray{Float16}(0.0)\n",
       " Gray{Float16}(0.0)  Gray{Float16}(0.0)     Gray{Float16}(0.0)\n",
       " Gray{Float16}(0.0)  Gray{Float16}(0.0)     Gray{Float16}(0.0)\n",
       " ⋮                                       ⋱                    \n",
       " Gray{Float16}(0.0)  Gray{Float16}(0.0)     Gray{Float16}(0.0)\n",
       " Gray{Float16}(0.0)  Gray{Float16}(0.0)     Gray{Float16}(0.0)\n",
       " Gray{Float16}(0.0)  Gray{Float16}(0.0)  …  Gray{Float16}(0.0)\n",
       " Gray{Float16}(0.0)  Gray{Float16}(0.0)     Gray{Float16}(0.0)\n",
       " Gray{Float16}(0.0)  Gray{Float16}(0.0)     Gray{Float16}(0.0)\n",
       " Gray{Float16}(0.0)  Gray{Float16}(0.0)     Gray{Float16}(0.0)\n",
       " Gray{Float16}(0.0)  Gray{Float16}(0.0)     Gray{Float16}(0.0)\n",
       " Gray{Float16}(0.0)  Gray{Float16}(0.0)  …  Gray{Float16}(0.0)\n",
       " Gray{Float16}(0.0)  Gray{Float16}(0.0)     Gray{Float16}(0.0)\n",
       " Gray{Float16}(0.0)  Gray{Float16}(0.0)     Gray{Float16}(0.0)\n",
       " Gray{Float16}(0.0)  Gray{Float16}(0.0)     Gray{Float16}(0.0)\n",
       " Gray{Float16}(0.0)  Gray{Float16}(0.0)     Gray{Float16}(0.0)"
      ]
     },
     "execution_count": 39,
     "metadata": {},
     "output_type": "execute_result"
    }
   ],
   "source": [
    "hcat([mnistview(x_train_tx100,i) for i in idx]...)"
   ]
  },
  {
   "cell_type": "code",
   "execution_count": 40,
   "metadata": {},
   "outputs": [
    {
     "data": {
      "image/png": "[encoded data removed]",
      "text/plain": [
       "60×300 Array{Gray{Float16},2} with eltype Gray{Float16}:\n",
       " Gray{Float16}(0.0)  Gray{Float16}(0.0)  …  Gray{Float16}(0.0)\n",
       " Gray{Float16}(0.0)  Gray{Float16}(0.0)     Gray{Float16}(0.0)\n",
       " Gray{Float16}(0.0)  Gray{Float16}(0.0)     Gray{Float16}(0.0)\n",
       " Gray{Float16}(0.0)  Gray{Float16}(0.0)     Gray{Float16}(0.0)\n",
       " Gray{Float16}(0.0)  Gray{Float16}(0.0)     Gray{Float16}(0.0)\n",
       " Gray{Float16}(0.0)  Gray{Float16}(0.0)  …  Gray{Float16}(0.0)\n",
       " Gray{Float16}(0.0)  Gray{Float16}(0.0)     Gray{Float16}(0.0)\n",
       " Gray{Float16}(0.0)  Gray{Float16}(0.0)     Gray{Float16}(0.0)\n",
       " Gray{Float16}(0.0)  Gray{Float16}(0.0)     Gray{Float16}(0.0)\n",
       " Gray{Float16}(0.0)  Gray{Float16}(0.0)     Gray{Float16}(0.0)\n",
       " Gray{Float16}(0.0)  Gray{Float16}(0.0)  …  Gray{Float16}(0.0)\n",
       " Gray{Float16}(0.0)  Gray{Float16}(0.0)     Gray{Float16}(0.0)\n",
       " Gray{Float16}(0.0)  Gray{Float16}(0.0)     Gray{Float16}(0.0)\n",
       " ⋮                                       ⋱                    \n",
       " Gray{Float16}(0.0)  Gray{Float16}(0.0)     Gray{Float16}(0.0)\n",
       " Gray{Float16}(0.0)  Gray{Float16}(0.0)     Gray{Float16}(0.0)\n",
       " Gray{Float16}(0.0)  Gray{Float16}(0.0)  …  Gray{Float16}(0.0)\n",
       " Gray{Float16}(0.0)  Gray{Float16}(0.0)     Gray{Float16}(0.0)\n",
       " Gray{Float16}(0.0)  Gray{Float16}(0.0)     Gray{Float16}(0.0)\n",
       " Gray{Float16}(0.0)  Gray{Float16}(0.0)     Gray{Float16}(0.0)\n",
       " Gray{Float16}(0.0)  Gray{Float16}(0.0)     Gray{Float16}(0.0)\n",
       " Gray{Float16}(0.0)  Gray{Float16}(0.0)  …  Gray{Float16}(0.0)\n",
       " Gray{Float16}(0.0)  Gray{Float16}(0.0)     Gray{Float16}(0.0)\n",
       " Gray{Float16}(0.0)  Gray{Float16}(0.0)     Gray{Float16}(0.0)\n",
       " Gray{Float16}(0.0)  Gray{Float16}(0.0)     Gray{Float16}(0.0)\n",
       " Gray{Float16}(0.0)  Gray{Float16}(0.0)     Gray{Float16}(0.0)"
      ]
     },
     "execution_count": 40,
     "metadata": {},
     "output_type": "execute_result"
    }
   ],
   "source": [
    "hcat([mnistview(x_train_tc60,i) for i in idx]...)"
   ]
  },
  {
   "cell_type": "code",
   "execution_count": 41,
   "metadata": {},
   "outputs": [
    {
     "data": {
      "image/png": "[encoded data removed]",
      "text/plain": [
       "100×500 Array{Gray{Float16},2} with eltype Gray{Float16}:\n",
       " Gray{Float16}(0.0)  Gray{Float16}(0.0)  …  Gray{Float16}(0.0)\n",
       " Gray{Float16}(0.0)  Gray{Float16}(0.0)     Gray{Float16}(0.0)\n",
       " Gray{Float16}(0.0)  Gray{Float16}(0.0)     Gray{Float16}(0.0)\n",
       " Gray{Float16}(0.0)  Gray{Float16}(0.0)     Gray{Float16}(0.0)\n",
       " Gray{Float16}(0.0)  Gray{Float16}(0.0)     Gray{Float16}(0.0)\n",
       " Gray{Float16}(0.0)  Gray{Float16}(0.0)  …  Gray{Float16}(0.0)\n",
       " Gray{Float16}(0.0)  Gray{Float16}(0.0)     Gray{Float16}(0.0)\n",
       " Gray{Float16}(0.0)  Gray{Float16}(0.0)     Gray{Float16}(0.0)\n",
       " Gray{Float16}(0.0)  Gray{Float16}(0.0)     Gray{Float16}(0.0)\n",
       " Gray{Float16}(0.0)  Gray{Float16}(0.0)     Gray{Float16}(0.0)\n",
       " Gray{Float16}(0.0)  Gray{Float16}(0.0)  …  Gray{Float16}(0.0)\n",
       " Gray{Float16}(0.0)  Gray{Float16}(0.0)     Gray{Float16}(0.0)\n",
       " Gray{Float16}(0.0)  Gray{Float16}(0.0)     Gray{Float16}(0.0)\n",
       " ⋮                                       ⋱                    \n",
       " Gray{Float16}(0.0)  Gray{Float16}(0.0)     Gray{Float16}(0.0)\n",
       " Gray{Float16}(0.0)  Gray{Float16}(0.0)     Gray{Float16}(0.0)\n",
       " Gray{Float16}(0.0)  Gray{Float16}(0.0)  …  Gray{Float16}(0.0)\n",
       " Gray{Float16}(0.0)  Gray{Float16}(0.0)     Gray{Float16}(0.0)\n",
       " Gray{Float16}(0.0)  Gray{Float16}(0.0)     Gray{Float16}(0.0)\n",
       " Gray{Float16}(0.0)  Gray{Float16}(0.0)     Gray{Float16}(0.0)\n",
       " Gray{Float16}(0.0)  Gray{Float16}(0.0)     Gray{Float16}(0.0)\n",
       " Gray{Float16}(0.0)  Gray{Float16}(0.0)  …  Gray{Float16}(0.0)\n",
       " Gray{Float16}(0.0)  Gray{Float16}(0.0)     Gray{Float16}(0.0)\n",
       " Gray{Float16}(0.0)  Gray{Float16}(0.0)     Gray{Float16}(0.0)\n",
       " Gray{Float16}(0.0)  Gray{Float16}(0.0)     Gray{Float16}(0.0)\n",
       " Gray{Float16}(0.0)  Gray{Float16}(0.0)     Gray{Float16}(0.0)"
      ]
     },
     "execution_count": 41,
     "metadata": {},
     "output_type": "execute_result"
    }
   ],
   "source": [
    "hcat([mnistview(x_train_tx100,i) for i in idx]...)"
   ]
  },
  {
   "cell_type": "code",
   "execution_count": 42,
   "metadata": {},
   "outputs": [
    {
     "data": {
      "image/png": "[encoded data removed]",
      "text/plain": [
       "100×500 Array{Gray{Float16},2} with eltype Gray{Float16}:\n",
       " Gray{Float16}(0.0)  Gray{Float16}(0.0)  …  Gray{Float16}(0.0)\n",
       " Gray{Float16}(0.0)  Gray{Float16}(0.0)     Gray{Float16}(0.0)\n",
       " Gray{Float16}(0.0)  Gray{Float16}(0.0)     Gray{Float16}(0.0)\n",
       " Gray{Float16}(0.0)  Gray{Float16}(0.0)     Gray{Float16}(0.0)\n",
       " Gray{Float16}(0.0)  Gray{Float16}(0.0)     Gray{Float16}(0.0)\n",
       " Gray{Float16}(0.0)  Gray{Float16}(0.0)  …  Gray{Float16}(0.0)\n",
       " Gray{Float16}(0.0)  Gray{Float16}(0.0)     Gray{Float16}(0.0)\n",
       " Gray{Float16}(0.0)  Gray{Float16}(0.0)     Gray{Float16}(0.0)\n",
       " Gray{Float16}(0.0)  Gray{Float16}(0.0)     Gray{Float16}(0.0)\n",
       " Gray{Float16}(0.0)  Gray{Float16}(0.0)     Gray{Float16}(0.0)\n",
       " Gray{Float16}(0.0)  Gray{Float16}(0.0)  …  Gray{Float16}(0.0)\n",
       " Gray{Float16}(0.0)  Gray{Float16}(0.0)     Gray{Float16}(0.0)\n",
       " Gray{Float16}(0.0)  Gray{Float16}(0.0)     Gray{Float16}(0.0)\n",
       " ⋮                                       ⋱                    \n",
       " Gray{Float16}(0.0)  Gray{Float16}(0.0)     Gray{Float16}(0.0)\n",
       " Gray{Float16}(0.0)  Gray{Float16}(0.0)     Gray{Float16}(0.0)\n",
       " Gray{Float16}(0.0)  Gray{Float16}(0.0)  …  Gray{Float16}(0.0)\n",
       " Gray{Float16}(0.0)  Gray{Float16}(0.0)     Gray{Float16}(0.0)\n",
       " Gray{Float16}(0.0)  Gray{Float16}(0.0)     Gray{Float16}(0.0)\n",
       " Gray{Float16}(0.0)  Gray{Float16}(0.0)     Gray{Float16}(0.0)\n",
       " Gray{Float16}(0.0)  Gray{Float16}(0.0)     Gray{Float16}(0.0)\n",
       " Gray{Float16}(0.0)  Gray{Float16}(0.0)  …  Gray{Float16}(0.0)\n",
       " Gray{Float16}(0.0)  Gray{Float16}(0.0)     Gray{Float16}(0.0)\n",
       " Gray{Float16}(0.0)  Gray{Float16}(0.0)     Gray{Float16}(0.0)\n",
       " Gray{Float16}(0.0)  Gray{Float16}(0.0)     Gray{Float16}(0.0)\n",
       " Gray{Float16}(0.0)  Gray{Float16}(0.0)     Gray{Float16}(0.0)"
      ]
     },
     "execution_count": 42,
     "metadata": {},
     "output_type": "execute_result"
    }
   ],
   "source": [
    "hcat([mnistview(x_train_tc100,i) for i in idx]...)"
   ]
  },
  {
   "cell_type": "code",
   "execution_count": null,
   "metadata": {},
   "outputs": [],
   "source": []
  }
 ],
 "metadata": {
  "kernelspec": {
   "display_name": "Julia 1.0.3",
   "language": "julia",
   "name": "julia-1.0"
  },
  "language_info": {
   "file_extension": ".jl",
   "mimetype": "application/julia",
   "name": "julia",
   "version": "1.0.3"
  }
 },
 "nbformat": 4,
 "nbformat_minor": 2
}
