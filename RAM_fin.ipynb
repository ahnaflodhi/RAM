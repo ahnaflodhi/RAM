{
 "cells": [
  {
   "cell_type": "code",
   "execution_count": 1,
   "metadata": {},
   "outputs": [
    {
     "name": "stderr",
     "output_type": "stream",
     "text": [
      "┌ Info: Loading MNIST...\n",
      "└ @ Main /home/ahnaf/.julia/packages/Knet/05UDD/data/mnist.jl:33\n"
     ]
    }
   ],
   "source": [
    "using ImageMagick\n",
    "using Knet\n",
    "using JLD\n",
    "using Statistics\n",
    "using Random\n",
    "using Images\n",
    "include(Knet.dir(\"data\", \"mnist.jl\"))\n",
    "xtrain, ytrain, xtest, ytest = mnist();"
   ]
  },
  {
   "cell_type": "code",
   "execution_count": 2,
   "metadata": {},
   "outputs": [
    {
     "data": {
      "text/plain": [
       "\"RAM_fin.jld2\""
      ]
     },
     "execution_count": 2,
     "metadata": {},
     "output_type": "execute_result"
    }
   ],
   "source": [
    "# Global Parameters\n",
    "BANDWIDTH = 8\n",
    "NUM_PATCHES = 4\n",
    "GLIMPSE_COUNT = 2 #Number of glimpses to be employed\n",
    "NUM_CLASSES = 10\n",
    "SCALE = 2\n",
    "HSIZE = 256\n",
    "GSIZE = 256;\n",
    "BATCHSIZE = 20\n",
    "FILENAME = \"RAM_fin_ref.jld2\""
   ]
  },
  {
   "cell_type": "code",
   "execution_count": 3,
   "metadata": {},
   "outputs": [
    {
     "data": {
      "text/plain": [
       "antinorm (generic function with 1 method)"
      ]
     },
     "execution_count": 3,
     "metadata": {},
     "output_type": "execute_result"
    }
   ],
   "source": [
    "# Generic Functions\n",
    "# Normalize dataset and return mean and SD\n",
    "function Normalize(dataset)\n",
    "    mean_dataset = Float32(mean(dataset))\n",
    "    sd_dataset = Float32(std(dataset))\n",
    "    dataset_norm = (dataset .- mean_dataset) ./ sd_dataset\n",
    "    return mean_dataset, sd_dataset, dataset_norm\n",
    "end\n",
    "\n",
    "\n",
    "# Function for normalizing the locations\n",
    "# Batch location dimensions = 2 x Batchsize\n",
    "function antinorm(dim, loc)\n",
    "    #Conver Normalized locations range[-1,1] into X, Y coordinates\n",
    "    anloc = []\n",
    "    meanx::Int16 = floor(dim/2);\n",
    "    meany::Int16 = floor(dim/2);\n",
    "    \n",
    "    locx = Array{Int16}(ceil.((loc[1,:] .* dim) ./ 2 .+ meanx))  \n",
    "    locy = Array{Int16}(ceil.((loc[2,:] .* dim) ./ 2 .+ meany))\n",
    "    for i = 1:BATCHSIZE\n",
    "        temp = reshape([locx[i], locy[i]], (2,1))\n",
    "        push!(anloc, temp)\n",
    "    end\n",
    "    return (cat(anloc..., dims = 2))\n",
    "end\n",
    "\n",
    "# # AntiNorm test\n",
    "# test = KnetArray{Float32}(rand(2,BATCHSIZE))\n",
    "# println(size(test))\n",
    "# test = antinorm(28, test)"
   ]
  },
  {
   "cell_type": "code",
   "execution_count": 4,
   "metadata": {},
   "outputs": [],
   "source": [
    "MEANX, SDX, xtrain = Normalize(xtrain);\n",
    "~, ~, xtest = Normalize(xtest);\n",
    "\n",
    "dtrn = minibatch(xtrain, ytrain, BATCHSIZE, xtype=KnetArray{Float32});\n",
    "dtst = minibatch(xtest, ytest, BATCHSIZE, xtype=KnetArray{Float32});\n",
    "\n",
    "xd, yd = first(dtrn);"
   ]
  },
  {
   "cell_type": "markdown",
   "metadata": {},
   "source": [
    "# Generic Elements"
   ]
  },
  {
   "cell_type": "code",
   "execution_count": 5,
   "metadata": {},
   "outputs": [
    {
     "data": {
      "text/plain": [
       "Linear"
      ]
     },
     "execution_count": 5,
     "metadata": {},
     "output_type": "execute_result"
    }
   ],
   "source": [
    "#################################################################################################\n",
    "struct FC\n",
    "    w\n",
    "    b\n",
    "    act\n",
    "end\n",
    "\n",
    "(f::FC)(x) =f.act.(f.w * mat(x) .+ f.b)\n",
    "FC(outsize::Int, insize::Int, act = relu) = FC(param(outsize, insize, atype = KnetArray{Float32}), \n",
    "    param0(outsize, atype = KnetArray{Float32}), act);\n",
    "\n",
    "\n",
    "# # Layer Test\n",
    "# F1 = FC(100, 784)\n",
    "# params(FC1)\n",
    "# testFC = FC1(xd)\n",
    "#################################################################################################\n",
    "\n",
    "struct Linear\n",
    "    w\n",
    "    b\n",
    "end\n",
    "\n",
    "(l::Linear)(x) = l.w * mat(x) .+ l.b\n",
    "\n",
    "function Linear(outsize::Int, insize::Int)\n",
    "    w = param(outsize, insize, atype=KnetArray{Float32})\n",
    "    b = param0(outsize, atype = KnetArray{Float32})\n",
    "    return Linear(w,b)\n",
    "end\n",
    "\n",
    "##################################################################################################\n",
    "\n",
    "# # Layer Test\n",
    "# L1 = Linear(100, 784)\n",
    "# params(L1)\n",
    "# testLinear = L1(xd)"
   ]
  },
  {
   "cell_type": "markdown",
   "metadata": {},
   "source": [
    "## Core Network\n",
    "Takes the output of Glimpse Network(gt -> gc) and previous hidden state(h(t-1)-> hp). Outputs current Hidden State (ht -> hc).\n",
    "Runs num_glimpses times and records the hidden state at the end as output. \n",
    "Unit Defintion = Rect (Linear(h(t-1)) + Linear(gt))"
   ]
  },
  {
   "cell_type": "code",
   "execution_count": 6,
   "metadata": {},
   "outputs": [],
   "source": [
    "struct CoreNet\n",
    "    FCgc   # Linear operator for g current  : gt\n",
    "    FChp   # Linear operator for h previous : ht-1\n",
    "end\n",
    "\n",
    "function CoreNet(gsize::Int, hsize::Int)\n",
    "    return CoreNet(Linear(gsize, hsize), Linear(hsize, hsize))\n",
    "end\n",
    "\n",
    "function (c::CoreNet)(gt,hp)\n",
    "    return relu.(c.FCgc(gt) + c.FChp(hp))\n",
    "end\n",
    "\n",
    "# CoreNet Test\n",
    "# CN = CoreNet(hsize, hsize)\n",
    "# sample = KnetArray{Float32}(rand(256,10))\n",
    "# sample = reshape(sample , (256, 10))\n",
    "# CN_test = CN(sample, sample)"
   ]
  },
  {
   "cell_type": "markdown",
   "metadata": {},
   "source": [
    "# Glimpse Network\n",
    "## Glimpse Network Constructor"
   ]
  },
  {
   "cell_type": "code",
   "execution_count": 7,
   "metadata": {},
   "outputs": [],
   "source": [
    "mutable struct GpsNet\n",
    "    FC1\n",
    "    FC2\n",
    "    FC3\n",
    "    FC4\n",
    "end"
   ]
  },
  {
   "cell_type": "markdown",
   "metadata": {},
   "source": [
    "### Glimpse Network: Initializer & Method"
   ]
  },
  {
   "cell_type": "code",
   "execution_count": 8,
   "metadata": {},
   "outputs": [],
   "source": [
    "# Glimpse Network default constructor: Definition of vairous cogs of the Glimpse network\n",
    "function GpsNet(bandwidth::Int, scale::Int, num_patches::Int)\n",
    "    FC1 = FC(128, bandwidth*bandwidth*num_patches, identity)\n",
    "    FC2 = FC(128, 2, identity)\n",
    "    FC3 = Linear(256, 128)  # The outsize may be 256\n",
    "    FC4 = Linear(256, 128) # The outsize may be 256\n",
    "    return GpsNet(FC1, FC2, FC3, FC4)\n",
    "end\n",
    "###########################################################################################\n",
    "\n",
    "## Glimpse Network Deployment\n",
    "\n",
    "# Deploying glimpse Network\n",
    "# Input is the batch of images\n",
    "# Take glimpses & locations. Pass them to FC layers \n",
    "function (g::GpsNet)(x_batch, loc)\n",
    "    phi   = sensor(x_batch, loc)\n",
    "    phi_1 = g.FC1(phi)\n",
    "    loc_1 = g.FC2(loc)\n",
    "    phi_2 = g.FC3(phi_1)\n",
    "    loc_2 = g.FC4(loc_1)\n",
    "    return relu.(phi_2 + loc_2) # The output here is gt to be fed to CoreNet\n",
    "end\n",
    "\n",
    "# # GpsNet Test\n",
    "# test2 = GpsNet(bandwidth, scale, num_patches)\n",
    "# params(test2.FC2)\n",
    "# res_test2 = test2(xd, loc)"
   ]
  },
  {
   "cell_type": "markdown",
   "metadata": {},
   "source": [
    "### Sensor Network"
   ]
  },
  {
   "cell_type": "code",
   "execution_count": 9,
   "metadata": {},
   "outputs": [
    {
     "data": {
      "text/plain": [
       "sensor (generic function with 1 method)"
      ]
     },
     "execution_count": 9,
     "metadata": {},
     "output_type": "execute_result"
    }
   ],
   "source": [
    "# Uses imresize for equalizing the return dimensions\n",
    "function sensor(x_batch, loc)\n",
    "    l,w,c,b = size(x_batch)\n",
    "    coord = antinorm(l, loc)\n",
    "    glimpse_array = []\n",
    "    padsize::Int = 60\n",
    "    width::Int = floor(BANDWIDTH / 2)  \n",
    "    batch = Array(mat(x_batch))\n",
    "    batch = reshape(batch, (l,w,b))\n",
    "    \n",
    "    for i = 1:BATCHSIZE\n",
    "        img = batch[:,:,i]\n",
    "        pad_img = padarray(img, Fill(0, (padsize, padsize)))\n",
    "        temp = []\n",
    "        for j = 1: NUM_PATCHES\n",
    "            xlim1 = coord[1,i] - (width* (SCALE ^ (j-1)))\n",
    "            xlim2 = coord[1,i]-1 + (width * (SCALE ^(j-1)))\n",
    "            ylim1 = coord[2,i] - (width* (SCALE ^ (j-1)))\n",
    "            ylim2 = coord[2,i]-1 + (width * (SCALE ^(j-1)))\n",
    "\n",
    "            glimpse = pad_img[xlim1:xlim2, ylim1:ylim2]\n",
    "            glimpse = imresize(glimpse, (BANDWIDTH, BANDWIDTH))\n",
    "            push!(temp, glimpse)\n",
    "        end\n",
    "        temp = vcat(vcat(temp...)...)\n",
    "        push!(glimpse_array, vcat(temp))\n",
    "    end\n",
    "    return KnetArray{Float32}(mat(cat(glimpse_array..., dims=2)))\n",
    "end\n",
    "\n",
    "## Function test\n",
    "# coord = KnetArray{Float32}(zeros(2, BATCHSIZE))\n",
    "# res = sensor(xd, coord)"
   ]
  },
  {
   "cell_type": "markdown",
   "metadata": {},
   "source": [
    "## Location Network"
   ]
  },
  {
   "cell_type": "code",
   "execution_count": 10,
   "metadata": {},
   "outputs": [],
   "source": [
    "mutable struct LocNet\n",
    "    sdx\n",
    "    Linl\n",
    "end\n",
    "\n",
    "# Function should take input size as 256 and output size as 2 (size of loc coordinates)\n",
    "function LocNet(outsize::Int, insize::Int, sdx::Float32)\n",
    "    Linloc = Linear(outsize, insize)\n",
    "    return LocNet(sdx, Linloc)\n",
    "end\n",
    "\n",
    "function (l::LocNet)(ht)\n",
    "    mean_loc = tanh.(l.Linl(ht))\n",
    "    \n",
    "    prtb = KnetArray{Float32}(gaussian((2,BATCHSIZE); mean = 0, std = SDX))\n",
    "    loc_new = mean_loc + prtb \n",
    "    return mean_loc, tanh.(loc_new)\n",
    "end\n",
    "\n",
    "# # TLocation Network Test\n",
    "# Loc1 = LocNet(2, 256, SDX)\n",
    "# sample = KnetArray{Float32}(rand(256));\n",
    "# sample = reshape(sample, (256, 1));\n",
    "# res, lt = Loc1(sample)"
   ]
  },
  {
   "cell_type": "markdown",
   "metadata": {},
   "source": [
    "## RAM Model\n",
    "### Staggered RAM\n",
    "The Reference RAM deployment has been staggered.\n",
    "Deploy one RAM function once to generate the hidden state, next location and action.\n",
    "Deploy this one-time active RAM recursively equal to number of glimpses. Record all intermediate states\n",
    "but base decision on output of the final one of the loop."
   ]
  },
  {
   "cell_type": "code",
   "execution_count": 11,
   "metadata": {},
   "outputs": [],
   "source": [
    "# RAM Initializer\n",
    "# ram = RAM(SDX, GLIMPSE_COUNT, BANDWIDTH, NUM_PATCHES, NUM_CLASSES, SCALE, GSIZE, HSIZE);\n",
    "mutable struct RAM\n",
    "    sdx\n",
    "    num_glimpses\n",
    "    gpsnet::GpsNet\n",
    "    corenet::CoreNet\n",
    "    locnet::LocNet\n",
    "    output_layer\n",
    "    locations\n",
    "    basenet\n",
    "    hsize\n",
    "end\n",
    "\n",
    "function RAM(sdx, glimpse_count, bandwidth, num_patches, num_classes, scale, gsize, hsize)\n",
    "#     sdx = SDX\n",
    "#     num_glimpses = glimpse_count\n",
    "    gpsnet = GpsNet(bandwidth, scale, num_patches)\n",
    "    corenet = CoreNet(gsize, hsize)\n",
    "    locnet = LocNet(2, hsize, sdx)\n",
    "    output_layer = Linear(num_classes, hsize) # Action Network\n",
    "    locations = []\n",
    "    basenet = FC(1, hsize)\n",
    "    return RAM(sdx, glimpse_count, gpsnet, corenet, locnet, output_layer, locations, basenet, hsize)\n",
    "end\n",
    "\n",
    "##########################################################################################\n",
    "\n",
    "# Outer RAM instance. Calls inner instance glimpse_count times\n",
    "function (r::RAM)(x_batch)\n",
    "    # Init States\n",
    "    hc = KnetArray{Float32}(reshape(zeros(r.hsize, BATCHSIZE), (r.hsize, BATCHSIZE)))\n",
    "    loc = KnetArray{Float32}(zeros(2,BATCHSIZE))\n",
    "    \n",
    "    log_ps, baseresults = [], []\n",
    "    for i = 1:r.num_glimpses\n",
    "        hc, loc, policy, baseres = r(x_batch, loc, hc)\n",
    "        push!(log_ps, policy)       \n",
    "        push!(baseresults, baseres)      \n",
    "    end\n",
    "    log_ps, baseresults = vcat(log_ps...), vcat(baseresults...)    \n",
    "    scores = logsoftmax(r.output_layer(mat(hc)))\n",
    "    return scores, log_ps, hc, baseresults\n",
    "end\n",
    "\n",
    "###########################################################################################\n",
    "\n",
    "# Innermost RAM instance\n",
    "function (r::RAM)(x_batch, loc, hp)\n",
    "    gc = r.gpsnet(x_batch, loc)  # g-current: gt\n",
    "    hc = r.corenet(gc,hp)       # h-current ; ht\n",
    "    mean_loc, lnext = r.locnet(hc) # mean and l-next:lt to be used in the next time step\n",
    "  \n",
    "    #Gaussian PDF for REINFORCE\n",
    "    policy = -(abs.(value(lnext) - mean_loc).^2) / 2*(r.sdx^2) .- log(r.sdx) .- log(sqrt(2 * 3.1415))\n",
    "    policy = sum(policy, dims =1)\n",
    "    base_res = r.basenet(hc)\n",
    "    return hc, lnext, policy, base_res\n",
    "end"
   ]
  },
  {
   "cell_type": "code",
   "execution_count": 12,
   "metadata": {},
   "outputs": [],
   "source": [
    "# Loss Caluclator\n",
    "function (ram::RAM)(x_batch, y)\n",
    "    scores, log_ps, hc, baseresults = ram(x_batch) \n",
    "    ypred = vec(map(i->i[1], argmax(Array(value(scores)), dims=1)))\n",
    "    r = ypred .== y; r = reshape(r, 1, :)\n",
    "    R = zeros(Float32, size(baseresults)...); R[end,:] = r\n",
    "    R = KnetArray{Float32}(R)\n",
    "    R̂ = R .- value(baseresults)\n",
    "   \n",
    "    loss_action = nll(scores, y)\n",
    "    loss_baseline = sum(abs2, baseresults .- R) / length(baseresults)\n",
    "    loss_reinforce = mean(sum(-log_ps .* R̂, dims=1))\n",
    "    return loss_action, loss_baseline, loss_reinforce, sum(R), length(R)\n",
    "end"
   ]
  },
  {
   "cell_type": "code",
   "execution_count": 13,
   "metadata": {},
   "outputs": [
    {
     "data": {
      "text/plain": [
       "validate (generic function with 1 method)"
      ]
     },
     "execution_count": 13,
     "metadata": {},
     "output_type": "execute_result"
    }
   ],
   "source": [
    "function validate(ram::RAM, data)\n",
    "    losses = zeros(3)\n",
    "    ncorrect = ninstances = 0\n",
    "    for (x,y) in data\n",
    "        ret = ram(x,y)\n",
    "        for i = 1:3; losses[i] += ret[i]; end\n",
    "        ncorrect += ret[4]\n",
    "        ninstances += ret[5]\n",
    "    end\n",
    "    losses = losses / length(data)\n",
    "    losses = [sum(losses), losses...]\n",
    "    return losses, ncorrect / ninstances\n",
    "end"
   ]
  },
  {
   "cell_type": "markdown",
   "metadata": {},
   "source": [
    "### RAM Initializer"
   ]
  },
  {
   "cell_type": "code",
   "execution_count": 14,
   "metadata": {},
   "outputs": [],
   "source": [
    "function initopt!(model, optimizer=\"Adam(lr=0.0003, gclip=0.0)\")\n",
    "    for par in params(model)\n",
    "        par.opt = eval(Meta.parse(optimizer))\n",
    "    end\n",
    "end\n",
    "\n",
    "ram = RAM(SDX, GLIMPSE_COUNT, BANDWIDTH, NUM_PATCHES, NUM_CLASSES, SCALE, GSIZE, HSIZE);\n",
    "record = params(ram);\n",
    "initopt!(ram)"
   ]
  },
  {
   "cell_type": "code",
   "execution_count": 16,
   "metadata": {},
   "outputs": [],
   "source": [
    "ram = Knet.load(\"RAM_fin.jld2\", \"RAM\");"
   ]
  },
  {
   "cell_type": "code",
   "execution_count": null,
   "metadata": {},
   "outputs": [
    {
     "name": "stdout",
     "output_type": "stream",
     "text": [
      "Loss for #epoch : 0.17426784\n",
      "epoch=1 trnloss=[0.145994, 0.119664, 0.0152582, 0.011072], trnacc=0.484225, tstloss=[0.271182, 0.231468, 0.0214549, 0.0182594], tstacc=0.4776\n",
      "Loss for #epoch : 0.12563308\n"
     ]
    }
   ],
   "source": [
    "epochs = 1000\n",
    "history = []\n",
    "best_acc = 0.0\n",
    "loss(x, yref) = sum(ram(x, yref)[1:3])\n",
    "gradients = []\n",
    "for epoch = 1:epochs\n",
    "    losses = []\n",
    "    for (x, y) in dtrn\n",
    "        lss = @diff loss(x, y)\n",
    "        push!(losses, value(lss))\n",
    "        for par in params(ram)\n",
    "            g = grad(lss, par)\n",
    "            update!(value(par), g, par.opt)\n",
    "        end\n",
    "    end\n",
    "    println(\"Loss for #epoch : \", mean(losses))\n",
    "    trn_losses, trn_acc = validate(ram, dtrn);\n",
    "    tst_losses, tst_acc = validate(ram, dtst);\n",
    "    println(\n",
    "        \"epoch=$(1+length(history)) \",\n",
    "        \"trnloss=$(trn_losses), trnacc=$trn_acc, \",\n",
    "        \"tstloss=$(tst_losses), tstacc=$tst_acc\")\n",
    "    push!(history, ([trn_losses..., trn_acc, tst_losses..., tst_acc]));\n",
    "    \n",
    "    if tst_acc > best_acc\n",
    "            best_acc = tst_acc\n",
    "            Knet.save(FILENAME, \"RAM\", ram)\n",
    "            Knet.@save \"History_fin.jld2\" history\n",
    "    end\n",
    "        \n",
    "end"
   ]
  },
  {
   "cell_type": "code",
   "execution_count": null,
   "metadata": {},
   "outputs": [],
   "source": [
    "Knet.save(FILENAME, \"RAM\", ram)\n",
    "Knet.@save \"History_ref.jld2\" history"
   ]
  },
  {
   "cell_type": "code",
   "execution_count": null,
   "metadata": {},
   "outputs": [],
   "source": []
  },
  {
   "cell_type": "code",
   "execution_count": null,
   "metadata": {},
   "outputs": [],
   "source": [
    "ram = nothing\n",
    "Knet.gc()"
   ]
  }
 ],
 "metadata": {
  "@webio": {
   "lastCommId": null,
   "lastKernelId": null
  },
  "kernelspec": {
   "display_name": "Julia 1.0.3",
   "language": "julia",
   "name": "julia-1.0"
  },
  "language_info": {
   "file_extension": ".jl",
   "mimetype": "application/julia",
   "name": "julia",
   "version": "1.0.3"
  }
 },
 "nbformat": 4,
 "nbformat_minor": 2
}
