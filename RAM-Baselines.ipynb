{
 "cells": [
  {
   "cell_type": "code",
   "execution_count": 2,
   "metadata": {},
   "outputs": [],
   "source": [
    "using Knet\n",
    "using JLD\n",
    "using Statistics"
   ]
  },
  {
   "cell_type": "code",
   "execution_count": 68,
   "metadata": {},
   "outputs": [
    {
     "data": {
      "text/plain": [
       "Conv"
      ]
     },
     "execution_count": 68,
     "metadata": {},
     "output_type": "execute_result"
    }
   ],
   "source": [
    "struct Conv;  \n",
    "    # The S is to denote stride. However, the next FC layer will have to be modified if stride != 5\n",
    "    w; s; f;\n",
    "end\n",
    "(c::Conv)(x) = c.f.(conv4(c.w, x; stride=c.s, mode = 0))\n",
    "Conv(w1::Int, w2::Int, cx::Int, cy::Int, s::Int, f=relu) = Conv(param(w1, w2, cx, cy),s,f)"
   ]
  },
  {
   "cell_type": "code",
   "execution_count": 4,
   "metadata": {},
   "outputs": [],
   "source": [
    "# Define dense layer:\n",
    "struct Dense; w; b; f; end\n",
    "(d::Dense)(x) = d.f.(d.w * mat(x) .+ d.b)\n",
    "Dense(i::Int,o::Int,f=relu) = Dense(param(o,i), param0(o), f);"
   ]
  },
  {
   "cell_type": "code",
   "execution_count": 5,
   "metadata": {},
   "outputs": [],
   "source": [
    "# Define a chain of layers:\n",
    "struct Chain; layers; Chain(args...)=new(args); end\n",
    "(c::Chain)(x) = (for l in c.layers; x = l(x); end; x)\n",
    "(c::Chain)(x,y) = nll(c(x),y)"
   ]
  },
  {
   "cell_type": "code",
   "execution_count": 18,
   "metadata": {},
   "outputs": [
    {
     "data": {
      "text/plain": [
       "result (generic function with 1 method)"
      ]
     },
     "execution_count": 18,
     "metadata": {},
     "output_type": "execute_result"
    }
   ],
   "source": [
    "# Function for evaluating model performance\n",
    "function initopt!(model, optimizer=\"Adam(lr=0.0001, gclip = 0.0)\")\n",
    "    for par in params(model)\n",
    "        par.opt = eval(Meta.parse(optimizer))\n",
    "    end\n",
    "end\n",
    "\n",
    "function result(model, trn_data, tst_data, epochs)\n",
    "    loss(x, yref) = model(x, yref)\n",
    "    gradients = []\n",
    "    loss_batch = []\n",
    "    record = params(model)\n",
    "    initopt!(model)\n",
    "\n",
    "    for epoch = 1:epochs\n",
    "        losses = []\n",
    "        for (x, y) in trn_data\n",
    "            lss = @diff loss(x, y)\n",
    "            push!(losses, value(lss))\n",
    "            for par in params(model)\n",
    "                g = grad(lss, par)\n",
    "                update!(value(par), g, par.opt)\n",
    "            end\n",
    "        end\n",
    "        push!(loss_batch, mean(losses))\n",
    "#         println(\"Training accuracy for epoch:$epoch = \", accuracy(model, trn_data))\n",
    "#         println(\"Epoch Number : $epoch\")\n",
    "    end\n",
    "    println(\"Final Accuracy for test set = \", accuracy(model, tst_data))\n",
    "    println(\"Final Loss :\", loss_batch[end])\n",
    "end"
   ]
  },
  {
   "cell_type": "code",
   "execution_count": 6,
   "metadata": {},
   "outputs": [
    {
     "name": "stderr",
     "output_type": "stream",
     "text": [
      "┌ Info: Loading MNIST...\n",
      "└ @ Main /home/ahnaf/.julia/packages/Knet/05UDD/data/mnist.jl:33\n"
     ]
    }
   ],
   "source": [
    "# Load MNIST data\n",
    "include(Knet.dir(\"data\",\"mnist.jl\"))\n",
    "xtrain, ytrain, xtest, ytest = mnist();\n",
    "dtrn, dtst = mnistdata();"
   ]
  },
  {
   "cell_type": "markdown",
   "metadata": {},
   "source": [
    "## Baseline Results"
   ]
  },
  {
   "cell_type": "code",
   "execution_count": 7,
   "metadata": {},
   "outputs": [
    {
     "name": "stdout",
     "output_type": "stream",
     "text": [
      "2.56e-01  100.00%┣██████████████████████████▉┫ 6000/6000 [00:09/00:09, 696.91i/s]\n",
      "0.9138\n",
      "0.08620000000000005\n",
      "0.30675378\n"
     ]
    }
   ],
   "source": [
    "# Train and test LeNet (about 30 secs on a gpu to reach 99% accuracy)\n",
    "model1 = Chain(Dense(784, 256, identity), Dense(256, 10, identity))\n",
    "progress!(adam(model1, repeat(dtrn,10)))\n",
    "println(accuracy(model1, dtst))\n",
    "println(zeroone(model1, dtst))\n",
    "println(nll(model1, dtst))"
   ]
  },
  {
   "cell_type": "code",
   "execution_count": 72,
   "metadata": {},
   "outputs": [
    {
     "name": "stdout",
     "output_type": "stream",
     "text": [
      "2.89e-01  100.00%┣█████████████████████████▉┫ 6000/6000 [00:05/00:05, 1296.71i/s]\n",
      "0.9177\n",
      "0.2896525\n"
     ]
    }
   ],
   "source": [
    "# Working Model parameters (Conv(10,10,1,8) FC(128,10))\n",
    "model2 = Chain(Conv(10,10,1,8,5,identity), Dense(128,10, identity))\n",
    "progress!(adam(model2, repeat(dtrn,10)))\n",
    "println(accuracy(model2, dtst))\n",
    "println(nll(model2, dtst))"
   ]
  }
 ],
 "metadata": {
  "kernelspec": {
   "display_name": "Julia 1.0.3",
   "language": "julia",
   "name": "julia-1.0"
  },
  "language_info": {
   "file_extension": ".jl",
   "mimetype": "application/julia",
   "name": "julia",
   "version": "1.0.3"
  }
 },
 "nbformat": 4,
 "nbformat_minor": 2
}
